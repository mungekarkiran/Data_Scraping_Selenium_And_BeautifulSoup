{
 "cells": [
  {
   "cell_type": "code",
   "execution_count": 20,
   "metadata": {},
   "outputs": [],
   "source": [
    "# lib's\n",
    "import numpy as np\n",
    "import pandas as pd\n",
    "\n",
    "import requests\n",
    "from selenium import webdriver\n",
    "from selenium.webdriver.common.by import By\n",
    "\n",
    "import time\n",
    "import warnings\n",
    "warnings.filterwarnings(\"ignore\")\n"
   ]
  },
  {
   "cell_type": "markdown",
   "metadata": {},
   "source": [
    "# Problem Statement 1:\n",
    "\n",
    "### Write a python code using web scraping method for creating a list of\n",
    "1. Name of Diseases,\n",
    "2. URLs associated with diseases and,\n",
    "3. Icon images of diseases.\n",
    "\n",
    "Save the list as a CSV file.\n",
    "\n",
    "Create the folder using python commands to save the icon images.\n",
    "\n",
    "URL of webpage: https://dermnetnz.org/image-library/\n",
    "\n",
    "Use selenium libraries"
   ]
  },
  {
   "cell_type": "code",
   "execution_count": 2,
   "metadata": {},
   "outputs": [],
   "source": [
    "# constant\n",
    "URL = \"https://dermnetnz.org/image-library\"\n"
   ]
  },
  {
   "cell_type": "code",
   "execution_count": 21,
   "metadata": {},
   "outputs": [
    {
     "name": "stdout",
     "output_type": "stream",
     "text": [
      "Image library | DermNet NZ  ||  https://dermnetnz.org/image-library\n",
      "[<selenium.webdriver.remote.webelement.WebElement (session=\"ac55a17f1cf8ea1f1b33045c7db5630c\", element=\"cbaf93ac-054e-425b-86a8-9c45b9e3a19a\")>, <selenium.webdriver.remote.webelement.WebElement (session=\"ac55a17f1cf8ea1f1b33045c7db5630c\", element=\"2cba7438-66a6-40fb-82fe-677f6d34b06c\")>, <selenium.webdriver.remote.webelement.WebElement (session=\"ac55a17f1cf8ea1f1b33045c7db5630c\", element=\"cb8924c9-332e-4788-ac4e-9c2d366431d7\")>, <selenium.webdriver.remote.webelement.WebElement (session=\"ac55a17f1cf8ea1f1b33045c7db5630c\", element=\"dbd3bcba-5356-462b-bc08-60a0dc03ff45\")>, <selenium.webdriver.remote.webelement.WebElement (session=\"ac55a17f1cf8ea1f1b33045c7db5630c\", element=\"bf74aabc-a01a-4eae-b3a4-771f3cc9a265\")>, <selenium.webdriver.remote.webelement.WebElement (session=\"ac55a17f1cf8ea1f1b33045c7db5630c\", element=\"23e2d63e-12af-453b-ab31-dbb5a98d07d6\")>, <selenium.webdriver.remote.webelement.WebElement (session=\"ac55a17f1cf8ea1f1b33045c7db5630c\", element=\"3bc9ad33-acd2-4138-b2ec-c02c09002d5e\")>, <selenium.webdriver.remote.webelement.WebElement (session=\"ac55a17f1cf8ea1f1b33045c7db5630c\", element=\"b4f5cd3f-99a0-4523-99ce-54fb8d64d2af\")>, <selenium.webdriver.remote.webelement.WebElement (session=\"ac55a17f1cf8ea1f1b33045c7db5630c\", element=\"8cbfac93-d5f0-458b-8ca7-e02f3ea73001\")>, <selenium.webdriver.remote.webelement.WebElement (session=\"ac55a17f1cf8ea1f1b33045c7db5630c\", element=\"cbcb2b62-096a-461f-b94e-4e7552e3816c\")>, <selenium.webdriver.remote.webelement.WebElement (session=\"ac55a17f1cf8ea1f1b33045c7db5630c\", element=\"cb6f383d-cb3d-4b14-9ca8-04c06e10eaee\")>, <selenium.webdriver.remote.webelement.WebElement (session=\"ac55a17f1cf8ea1f1b33045c7db5630c\", element=\"93bf2023-be3d-49db-96d9-2a0a6178f904\")>, <selenium.webdriver.remote.webelement.WebElement (session=\"ac55a17f1cf8ea1f1b33045c7db5630c\", element=\"ff54013e-9b96-48d1-92ff-b13dec19f896\")>, <selenium.webdriver.remote.webelement.WebElement (session=\"ac55a17f1cf8ea1f1b33045c7db5630c\", element=\"72a51708-577d-438f-b140-94f53af5a83d\")>, <selenium.webdriver.remote.webelement.WebElement (session=\"ac55a17f1cf8ea1f1b33045c7db5630c\", element=\"94024592-81af-4e3a-aae8-cd4a062fc490\")>, <selenium.webdriver.remote.webelement.WebElement (session=\"ac55a17f1cf8ea1f1b33045c7db5630c\", element=\"736cf010-caf4-4c67-b6fc-dd9b4350b1a8\")>, <selenium.webdriver.remote.webelement.WebElement (session=\"ac55a17f1cf8ea1f1b33045c7db5630c\", element=\"d6dd51e7-5a6d-4336-966d-80ca9dddc50a\")>, <selenium.webdriver.remote.webelement.WebElement (session=\"ac55a17f1cf8ea1f1b33045c7db5630c\", element=\"dad39f90-e97e-42b4-a2c1-c313ce81ff5f\")>, <selenium.webdriver.remote.webelement.WebElement (session=\"ac55a17f1cf8ea1f1b33045c7db5630c\", element=\"e06f33ab-47a8-411a-92d4-8bd17b2754d5\")>, <selenium.webdriver.remote.webelement.WebElement (session=\"ac55a17f1cf8ea1f1b33045c7db5630c\", element=\"3626678c-4e48-4b89-8dbc-23ec7b9c634e\")>, <selenium.webdriver.remote.webelement.WebElement (session=\"ac55a17f1cf8ea1f1b33045c7db5630c\", element=\"297d8bde-1ae1-468c-b5cf-c2bf930bb1a6\")>, <selenium.webdriver.remote.webelement.WebElement (session=\"ac55a17f1cf8ea1f1b33045c7db5630c\", element=\"694cd4df-095a-45fe-8301-c3f3fbb67f79\")>, <selenium.webdriver.remote.webelement.WebElement (session=\"ac55a17f1cf8ea1f1b33045c7db5630c\", element=\"c5022e56-1d74-4626-876f-9e4c7cebc8a7\")>, <selenium.webdriver.remote.webelement.WebElement (session=\"ac55a17f1cf8ea1f1b33045c7db5630c\", element=\"b121d5be-3433-4aef-b929-f4c157eac331\")>, <selenium.webdriver.remote.webelement.WebElement (session=\"ac55a17f1cf8ea1f1b33045c7db5630c\", element=\"614c9970-a8c9-4934-8577-6af740db5464\")>, <selenium.webdriver.remote.webelement.WebElement (session=\"ac55a17f1cf8ea1f1b33045c7db5630c\", element=\"6de9d225-287e-43e6-b3a2-8839cf06f026\")>]\n"
     ]
    }
   ],
   "source": [
    "# initiating the webdriver.\n",
    "driver = webdriver.Chrome(r'D:\\chromedriver\\chromedriver.exe')\n",
    "driver.get(URL)\n",
    "\n",
    "# this is just to ensure that the page is loaded\n",
    "time.sleep(1)\n",
    "print(driver.title, ' || ', driver.current_url)\n",
    "\n",
    "def scroll_to_end(wd):\n",
    "    wd.execute_script(\"window.scrollTo(0, document.body.scrollHeight);\")\n",
    "    time.sleep(5)\n",
    "\n",
    "\n",
    "element = driver.find_elements(By.CLASS_NAME, \"imageList__group\")\n",
    "print(element)"
   ]
  },
  {
   "cell_type": "code",
   "execution_count": 24,
   "metadata": {},
   "outputs": [
    {
     "data": {
      "text/plain": [
       "['Acne affecting the back images',\n",
       " 'Acne affecting the face images',\n",
       " 'Acne and other follicular disorder images',\n",
       " 'Acquired dermal macular hyperpigmentation images',\n",
       " 'Acral lentiginous melanoma images',\n",
       " 'Actinic keratosis affecting the face images',\n",
       " 'Actinic keratosis affecting the hand images',\n",
       " 'Actinic keratosis affecting the legs and feet images',\n",
       " 'Actinic keratosis affecting the scalp images',\n",
       " 'Actinic keratosis dermoscopy images',\n",
       " 'Actinic keratosis on the nose images',\n",
       " 'Actinic keratosis treated with imiquimod images',\n",
       " 'Adalimumab images',\n",
       " 'Alopecia areata images',\n",
       " 'Amelanotic melanoma images',\n",
       " 'Anal cancer images',\n",
       " 'Angiofibromas images',\n",
       " 'Angiokeratomas images',\n",
       " 'Angular cheilitis images',\n",
       " 'Arthropod bites images',\n",
       " 'Atopic dermatitis images',\n",
       " 'Atopic eczema images',\n",
       " 'Atopic flexural eczema images',\n",
       " 'Atypical melanocytic naevus',\n",
       " 'Atypical mycobacterial infection images',\n",
       " 'Atypical naevus images',\n",
       " 'Autoimmune alopecia images']"
      ]
     },
     "execution_count": 24,
     "metadata": {},
     "output_type": "execute_result"
    }
   ],
   "source": [
    "# class=\"imageList__group\"\n",
    "\n",
    "element[0].text.split('\\n')"
   ]
  },
  {
   "cell_type": "code",
   "execution_count": 27,
   "metadata": {},
   "outputs": [
    {
     "data": {
      "text/plain": [
       "'https://dermnetnz.org/topics/acne-affecting-the-back-images'"
      ]
     },
     "execution_count": 27,
     "metadata": {},
     "output_type": "execute_result"
    }
   ],
   "source": [
    "element[0].find_element(By.TAG_NAME, \"a\").get_attribute(\"href\")"
   ]
  },
  {
   "cell_type": "code",
   "execution_count": 28,
   "metadata": {},
   "outputs": [
    {
     "data": {
      "text/plain": [
       "'https://dermnetnz.org/assets/manualthumbnails/acne/acne-back/preview/141__FocusFillWzE1MCwxMTAsInkiLDFd.jpg'"
      ]
     },
     "execution_count": 28,
     "metadata": {},
     "output_type": "execute_result"
    }
   ],
   "source": [
    "element[0].find_element(By.TAG_NAME, \"img\").get_attribute(\"src\")"
   ]
  },
  {
   "cell_type": "code",
   "execution_count": 29,
   "metadata": {},
   "outputs": [
    {
     "data": {
      "text/plain": [
       "['B-K mole images',\n",
       " 'BCC affecting the ear images',\n",
       " 'BCC affecting the eyelid images',\n",
       " 'BCC affecting the face images',\n",
       " 'BCC affecting the nose images',\n",
       " 'BCC affecting the trunk images',\n",
       " 'Bacteria images',\n",
       " 'Bacterial skin infection images',\n",
       " 'Balanitis images',\n",
       " 'Basal cell carcinoma affecting the ear images',\n",
       " 'Basal cell carcinoma affecting the eyelid images',\n",
       " 'Basal cell carcinoma affecting the face images',\n",
       " 'Basal cell carcinoma affecting the nose images',\n",
       " 'Basal cell carcinoma affecting the trunk images',\n",
       " 'Basal cell epithelioma affecting the ear images',\n",
       " 'Basal cell epithelioma affecting the eyelid images',\n",
       " 'Basal cell epithelioma affecting the face images',\n",
       " 'Basal cell epithelioma affecting the nose images',\n",
       " 'Basal cell epithelioma affecting the trunk images',\n",
       " 'Basalioma affecting the ear images',\n",
       " 'Basalioma affecting the eyelid images',\n",
       " 'Basalioma affecting the face images',\n",
       " 'Basalioma affecting the nose images',\n",
       " 'Basalioma affecting the trunk images',\n",
       " 'Behcet disease images',\n",
       " 'Besnier prurigo images',\n",
       " 'Bowenoid papulosis images',\n",
       " 'Bullous pemphigoid images']"
      ]
     },
     "execution_count": 29,
     "metadata": {},
     "output_type": "execute_result"
    }
   ],
   "source": [
    "element[1].text.split('\\n')"
   ]
  },
  {
   "cell_type": "code",
   "execution_count": 31,
   "metadata": {},
   "outputs": [
    {
     "data": {
      "text/plain": [
       "'https://dermnetnz.org/topics/atypical-naevus-images'"
      ]
     },
     "execution_count": 31,
     "metadata": {},
     "output_type": "execute_result"
    }
   ],
   "source": [
    "element[1].find_element(By.TAG_NAME, \"a\").get_attribute(\"href\")"
   ]
  },
  {
   "cell_type": "code",
   "execution_count": 32,
   "metadata": {},
   "outputs": [
    {
     "data": {
      "text/plain": [
       "'https://dermnetnz.org/assets/Uploads/604__FocusFillWzE1MCwxMTAsInkiLDFd.jpg'"
      ]
     },
     "execution_count": 32,
     "metadata": {},
     "output_type": "execute_result"
    }
   ],
   "source": [
    "element[1].find_element(By.TAG_NAME, \"img\").get_attribute(\"src\")"
   ]
  },
  {
   "cell_type": "code",
   "execution_count": null,
   "metadata": {},
   "outputs": [],
   "source": []
  },
  {
   "cell_type": "code",
   "execution_count": null,
   "metadata": {},
   "outputs": [],
   "source": []
  },
  {
   "cell_type": "code",
   "execution_count": null,
   "metadata": {},
   "outputs": [],
   "source": []
  },
  {
   "cell_type": "code",
   "execution_count": null,
   "metadata": {},
   "outputs": [],
   "source": []
  },
  {
   "cell_type": "code",
   "execution_count": null,
   "metadata": {},
   "outputs": [],
   "source": []
  },
  {
   "cell_type": "markdown",
   "metadata": {},
   "source": [
    "# Problem Statement 2:\n",
    "\n",
    "### Complete the python function to get the output of below cases :\n",
    "\n",
    "i. case 1: n = 1, v = 1\n",
    "\n",
    "ii. case 2: n= 2, v = 23 (Note: 23 is derived as 1 + 22)\n",
    "\n",
    "iii. case 3: n= 3, v = 356 (Note: 356 is derived as 1+22+333)\n",
    "\n",
    "iv. case 4: n= 4, v = 4800 (Note: 356 is derived as 1+22+333+4444)\n",
    "\n",
    "def mystery(n):\n",
    "\n",
    "...\n",
    "\n",
    "...\n",
    "\n",
    "...\n",
    "\n",
    "return v"
   ]
  },
  {
   "cell_type": "code",
   "execution_count": 19,
   "metadata": {},
   "outputs": [
    {
     "name": "stdout",
     "output_type": "stream",
     "text": [
      "1\n",
      "23\n",
      "356\n",
      "4800\n",
      "60355\n"
     ]
    }
   ],
   "source": [
    "def mystery(n):\n",
    "    v = 0\n",
    "    for i in range(1, n+1):\n",
    "        v1 = ''\n",
    "        for j in range(i):\n",
    "            v1 += str(i)\n",
    "        v += int(v1)\n",
    "    \n",
    "    return v\n",
    "\n",
    "print(mystery(1))\n",
    "print(mystery(2))\n",
    "print(mystery(3))\n",
    "print(mystery(4))\n",
    "print(mystery(5))"
   ]
  },
  {
   "cell_type": "code",
   "execution_count": 30,
   "metadata": {},
   "outputs": [
    {
     "data": {
      "text/plain": [
       "\"\\ngit add .\\n\\ngit commit -m 'add 2nd Q '\\n\\ngit push origin main\\n\\n\""
      ]
     },
     "execution_count": 30,
     "metadata": {},
     "output_type": "execute_result"
    }
   ],
   "source": [
    "'''\n",
    "git add .\n",
    "\n",
    "git commit -m 'add 2nd Q '\n",
    "\n",
    "git push origin main\n",
    "\n",
    "https://selenium-python.readthedocs.io/locating-elements.html\n",
    "\n",
    "https://stackoverflow.com/questions/34759787/fetch-all-href-link-using-selenium-in-python\n",
    "'''"
   ]
  },
  {
   "cell_type": "code",
   "execution_count": null,
   "metadata": {},
   "outputs": [],
   "source": []
  }
 ],
 "metadata": {
  "kernelspec": {
   "display_name": "Python 3",
   "language": "python",
   "name": "python3"
  },
  "language_info": {
   "codemirror_mode": {
    "name": "ipython",
    "version": 3
   },
   "file_extension": ".py",
   "mimetype": "text/x-python",
   "name": "python",
   "nbconvert_exporter": "python",
   "pygments_lexer": "ipython3",
   "version": "3.6.7"
  }
 },
 "nbformat": 4,
 "nbformat_minor": 2
}
