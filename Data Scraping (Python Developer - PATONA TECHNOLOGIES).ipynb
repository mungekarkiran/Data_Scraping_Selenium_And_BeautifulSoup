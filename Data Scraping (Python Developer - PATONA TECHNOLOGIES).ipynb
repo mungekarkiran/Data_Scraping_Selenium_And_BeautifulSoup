{
 "cells": [
  {
   "cell_type": "code",
   "execution_count": 1,
   "metadata": {},
   "outputs": [],
   "source": [
    "# lib's\n",
    "import numpy as np\n",
    "import pandas as pd\n",
    "\n",
    "import requests\n",
    "from selenium import webdriver\n",
    "from selenium.webdriver.common.by import By\n",
    "\n",
    "from urllib import request as urlreq\n",
    "\n",
    "import os \n",
    "import time\n",
    "import warnings\n",
    "warnings.filterwarnings(\"ignore\")\n"
   ]
  },
  {
   "cell_type": "markdown",
   "metadata": {},
   "source": [
    "# Problem Statement 1:\n",
    "\n",
    "### Write a python code using web scraping method for creating a list of\n",
    "1. Name of Diseases,\n",
    "2. URLs associated with diseases and,\n",
    "3. Icon images of diseases.\n",
    "\n",
    "Save the list as a CSV file.\n",
    "\n",
    "Create the folder using python commands to save the icon images.\n",
    "\n",
    "URL of webpage: https://dermnetnz.org/image-library/\n",
    "\n",
    "Use selenium libraries"
   ]
  },
  {
   "cell_type": "code",
   "execution_count": 13,
   "metadata": {},
   "outputs": [],
   "source": [
    "# constant\n",
    "URL = \"https://dermnetnz.org/image-library\"\n",
    "IMAGES_DIR = \"Disease_Images\"\n"
   ]
  },
  {
   "cell_type": "code",
   "execution_count": 14,
   "metadata": {
    "scrolled": true
   },
   "outputs": [
    {
     "name": "stdout",
     "output_type": "stream",
     "text": [
      "Image library | DermNet NZ  ||  https://dermnetnz.org/image-library\n",
      "[<selenium.webdriver.remote.webelement.WebElement (session=\"ccebd6cb2f6c0100ba2138f93a8a716d\", element=\"76311872-ef78-4337-9968-0eff893c6382\")>, <selenium.webdriver.remote.webelement.WebElement (session=\"ccebd6cb2f6c0100ba2138f93a8a716d\", element=\"9fbd4651-9a4b-449f-82cd-f4e3f2e3f7dd\")>, <selenium.webdriver.remote.webelement.WebElement (session=\"ccebd6cb2f6c0100ba2138f93a8a716d\", element=\"dc6143dd-4b6f-4c43-a327-fcf463781221\")>, <selenium.webdriver.remote.webelement.WebElement (session=\"ccebd6cb2f6c0100ba2138f93a8a716d\", element=\"69f4f4a6-1f9e-4a07-a2f3-6fa0af3f3eaf\")>, <selenium.webdriver.remote.webelement.WebElement (session=\"ccebd6cb2f6c0100ba2138f93a8a716d\", element=\"8e991df0-a7a5-46f0-9061-0a2257303e84\")>, <selenium.webdriver.remote.webelement.WebElement (session=\"ccebd6cb2f6c0100ba2138f93a8a716d\", element=\"2f715726-4226-4c20-a460-0f5b1f3fb4ba\")>, <selenium.webdriver.remote.webelement.WebElement (session=\"ccebd6cb2f6c0100ba2138f93a8a716d\", element=\"4ac21928-6eeb-477d-9bbf-3866d4578da4\")>, <selenium.webdriver.remote.webelement.WebElement (session=\"ccebd6cb2f6c0100ba2138f93a8a716d\", element=\"ccf30160-2200-42f3-8746-b1f720772ea8\")>, <selenium.webdriver.remote.webelement.WebElement (session=\"ccebd6cb2f6c0100ba2138f93a8a716d\", element=\"4835de52-4acf-47d4-9386-8c3d8dc45bfc\")>, <selenium.webdriver.remote.webelement.WebElement (session=\"ccebd6cb2f6c0100ba2138f93a8a716d\", element=\"3884efbf-7feb-48c9-afcc-cdb7d5e78025\")>, <selenium.webdriver.remote.webelement.WebElement (session=\"ccebd6cb2f6c0100ba2138f93a8a716d\", element=\"ad602fda-6cfa-4e79-b58c-89bad309869f\")>, <selenium.webdriver.remote.webelement.WebElement (session=\"ccebd6cb2f6c0100ba2138f93a8a716d\", element=\"6e845603-fd03-4911-acf3-686506fed955\")>, <selenium.webdriver.remote.webelement.WebElement (session=\"ccebd6cb2f6c0100ba2138f93a8a716d\", element=\"43d588e5-c681-46fd-b72d-aa2f923d1477\")>, <selenium.webdriver.remote.webelement.WebElement (session=\"ccebd6cb2f6c0100ba2138f93a8a716d\", element=\"91957855-c699-4444-abcb-febadb47134e\")>, <selenium.webdriver.remote.webelement.WebElement (session=\"ccebd6cb2f6c0100ba2138f93a8a716d\", element=\"ec577997-f2fe-4dea-b027-602933dcb992\")>, <selenium.webdriver.remote.webelement.WebElement (session=\"ccebd6cb2f6c0100ba2138f93a8a716d\", element=\"bb30cfb5-44cc-4ca9-930a-9de32361015c\")>, <selenium.webdriver.remote.webelement.WebElement (session=\"ccebd6cb2f6c0100ba2138f93a8a716d\", element=\"f95a5c29-50de-4a07-a38c-41661f3b05ea\")>, <selenium.webdriver.remote.webelement.WebElement (session=\"ccebd6cb2f6c0100ba2138f93a8a716d\", element=\"258f073b-d940-4bef-a75b-d5d1690d0e7f\")>, <selenium.webdriver.remote.webelement.WebElement (session=\"ccebd6cb2f6c0100ba2138f93a8a716d\", element=\"5de944d7-efc9-40c0-997a-74032f9cbea3\")>, <selenium.webdriver.remote.webelement.WebElement (session=\"ccebd6cb2f6c0100ba2138f93a8a716d\", element=\"0d2099ff-ccda-4996-abe9-125d83cd1a5a\")>, <selenium.webdriver.remote.webelement.WebElement (session=\"ccebd6cb2f6c0100ba2138f93a8a716d\", element=\"50a065a5-f6d6-4cea-b50a-82ca70dea79e\")>, <selenium.webdriver.remote.webelement.WebElement (session=\"ccebd6cb2f6c0100ba2138f93a8a716d\", element=\"71be3f61-10e9-4460-b96a-10e9e75a6396\")>, <selenium.webdriver.remote.webelement.WebElement (session=\"ccebd6cb2f6c0100ba2138f93a8a716d\", element=\"b28afab0-6d8a-49db-bb49-a8d989035cb6\")>, <selenium.webdriver.remote.webelement.WebElement (session=\"ccebd6cb2f6c0100ba2138f93a8a716d\", element=\"39229e8d-2d5d-4845-b750-b94299a394f1\")>, <selenium.webdriver.remote.webelement.WebElement (session=\"ccebd6cb2f6c0100ba2138f93a8a716d\", element=\"0e16d0e9-aaab-43bf-a3d9-6440fc2f3ea3\")>, <selenium.webdriver.remote.webelement.WebElement (session=\"ccebd6cb2f6c0100ba2138f93a8a716d\", element=\"471d5506-ce6e-4a3a-991f-ef0e81e02231\")>]\n"
     ]
    }
   ],
   "source": [
    "# initiating the webdriver.\n",
    "driver = webdriver.Chrome(r'D:\\chromedriver\\chromedriver.exe')\n",
    "driver.get(URL)\n",
    "\n",
    "# this is just to ensure that the page is loaded\n",
    "time.sleep(1)\n",
    "print(driver.title, ' || ', driver.current_url)\n",
    "\n",
    "def scroll_to_end(wd):\n",
    "    wd.execute_script(\"window.scrollTo(0, document.body.scrollHeight);\")\n",
    "    time.sleep(10)\n",
    "\n",
    "scroll_to_end(driver)\n",
    "    \n",
    "element = driver.find_elements(By.CLASS_NAME, \"imageList__group\")\n",
    "print(element)"
   ]
  },
  {
   "cell_type": "code",
   "execution_count": 15,
   "metadata": {
    "scrolled": true
   },
   "outputs": [
    {
     "data": {
      "text/plain": [
       "(['Acne affecting the back images',\n",
       "  'Acne affecting the face images',\n",
       "  'Acne and other follicular disorder images',\n",
       "  'Acquired dermal macular hyperpigmentation images',\n",
       "  'Acral lentiginous melanoma images',\n",
       "  'Actinic keratosis affecting the face images',\n",
       "  'Actinic keratosis affecting the hand images',\n",
       "  'Actinic keratosis affecting the legs and feet images',\n",
       "  'Actinic keratosis affecting the scalp images',\n",
       "  'Actinic keratosis dermoscopy images',\n",
       "  'Actinic keratosis on the nose images',\n",
       "  'Actinic keratosis treated with imiquimod images',\n",
       "  'Adalimumab images',\n",
       "  'Alopecia areata images',\n",
       "  'Amelanotic melanoma images',\n",
       "  'Anal cancer images',\n",
       "  'Angiofibromas images',\n",
       "  'Angiokeratomas images',\n",
       "  'Angular cheilitis images',\n",
       "  'Arthropod bites images',\n",
       "  'Atopic dermatitis images',\n",
       "  'Atopic eczema images',\n",
       "  'Atopic flexural eczema images',\n",
       "  'Atypical melanocytic naevus',\n",
       "  'Atypical mycobacterial infection images',\n",
       "  'Atypical naevus images',\n",
       "  'Autoimmune alopecia images'],\n",
       " 27)"
      ]
     },
     "execution_count": 15,
     "metadata": {},
     "output_type": "execute_result"
    }
   ],
   "source": [
    "# class=\"imageList__group\"\n",
    "\n",
    "element_text_list = element[0].text.split('\\n')\n",
    "element_text_list, len(element_text_list)"
   ]
  },
  {
   "cell_type": "code",
   "execution_count": 16,
   "metadata": {
    "scrolled": true
   },
   "outputs": [
    {
     "data": {
      "text/plain": [
       "([<selenium.webdriver.remote.webelement.WebElement (session=\"ccebd6cb2f6c0100ba2138f93a8a716d\", element=\"d642e4d0-bcf3-4d9f-ac12-72d173eec918\")>,\n",
       "  <selenium.webdriver.remote.webelement.WebElement (session=\"ccebd6cb2f6c0100ba2138f93a8a716d\", element=\"3bddbfa7-950d-4cf4-b99d-9ab4f132c022\")>,\n",
       "  <selenium.webdriver.remote.webelement.WebElement (session=\"ccebd6cb2f6c0100ba2138f93a8a716d\", element=\"4107c51e-0639-4867-b290-2eb860fa32bc\")>,\n",
       "  <selenium.webdriver.remote.webelement.WebElement (session=\"ccebd6cb2f6c0100ba2138f93a8a716d\", element=\"1ebf04d1-b49c-47ba-9c50-667ade7c888a\")>,\n",
       "  <selenium.webdriver.remote.webelement.WebElement (session=\"ccebd6cb2f6c0100ba2138f93a8a716d\", element=\"39e6ca3f-4d01-4943-b636-864bcfc0e005\")>,\n",
       "  <selenium.webdriver.remote.webelement.WebElement (session=\"ccebd6cb2f6c0100ba2138f93a8a716d\", element=\"18ca834f-74b8-47a9-ac9d-b3ae4042918d\")>,\n",
       "  <selenium.webdriver.remote.webelement.WebElement (session=\"ccebd6cb2f6c0100ba2138f93a8a716d\", element=\"98b400ce-0142-41d5-a4b8-52148e652cd5\")>,\n",
       "  <selenium.webdriver.remote.webelement.WebElement (session=\"ccebd6cb2f6c0100ba2138f93a8a716d\", element=\"3126200b-8919-44cf-9c31-4b6bcfadf84c\")>,\n",
       "  <selenium.webdriver.remote.webelement.WebElement (session=\"ccebd6cb2f6c0100ba2138f93a8a716d\", element=\"18e4e36d-ebf6-42e9-9352-71e32dfabe48\")>,\n",
       "  <selenium.webdriver.remote.webelement.WebElement (session=\"ccebd6cb2f6c0100ba2138f93a8a716d\", element=\"71929e46-8a90-4c76-9f91-3e8aade52802\")>,\n",
       "  <selenium.webdriver.remote.webelement.WebElement (session=\"ccebd6cb2f6c0100ba2138f93a8a716d\", element=\"6f382774-effb-4815-a87e-dbba5b34885a\")>,\n",
       "  <selenium.webdriver.remote.webelement.WebElement (session=\"ccebd6cb2f6c0100ba2138f93a8a716d\", element=\"b30eda42-81e4-4f3d-8cfe-c59d8c99bf9b\")>,\n",
       "  <selenium.webdriver.remote.webelement.WebElement (session=\"ccebd6cb2f6c0100ba2138f93a8a716d\", element=\"f3005d62-0441-4319-a853-07a6d882ecc4\")>,\n",
       "  <selenium.webdriver.remote.webelement.WebElement (session=\"ccebd6cb2f6c0100ba2138f93a8a716d\", element=\"76e5c1d5-8e0c-43df-abc1-5a978585197d\")>,\n",
       "  <selenium.webdriver.remote.webelement.WebElement (session=\"ccebd6cb2f6c0100ba2138f93a8a716d\", element=\"9a6bad7d-7a10-49f3-a020-f916be7a704c\")>,\n",
       "  <selenium.webdriver.remote.webelement.WebElement (session=\"ccebd6cb2f6c0100ba2138f93a8a716d\", element=\"01819efb-b912-43ab-94bd-bb2a9936635e\")>,\n",
       "  <selenium.webdriver.remote.webelement.WebElement (session=\"ccebd6cb2f6c0100ba2138f93a8a716d\", element=\"4e5e763b-a91d-4b1b-b9b9-3d912881e6c8\")>,\n",
       "  <selenium.webdriver.remote.webelement.WebElement (session=\"ccebd6cb2f6c0100ba2138f93a8a716d\", element=\"35a0e054-f00c-45c6-85ef-6396c6105b78\")>,\n",
       "  <selenium.webdriver.remote.webelement.WebElement (session=\"ccebd6cb2f6c0100ba2138f93a8a716d\", element=\"3aa5fb57-8161-4457-9cb0-f941feb1c107\")>,\n",
       "  <selenium.webdriver.remote.webelement.WebElement (session=\"ccebd6cb2f6c0100ba2138f93a8a716d\", element=\"89dcbea8-1d26-4ae6-851e-9dcf2467268e\")>,\n",
       "  <selenium.webdriver.remote.webelement.WebElement (session=\"ccebd6cb2f6c0100ba2138f93a8a716d\", element=\"294dc536-c427-4037-9051-3fb35037269f\")>,\n",
       "  <selenium.webdriver.remote.webelement.WebElement (session=\"ccebd6cb2f6c0100ba2138f93a8a716d\", element=\"3dde5c1c-0412-4bac-bda0-087f74fe7505\")>,\n",
       "  <selenium.webdriver.remote.webelement.WebElement (session=\"ccebd6cb2f6c0100ba2138f93a8a716d\", element=\"962bcbef-ef9c-4cf8-8618-d83d8bc912a1\")>,\n",
       "  <selenium.webdriver.remote.webelement.WebElement (session=\"ccebd6cb2f6c0100ba2138f93a8a716d\", element=\"37a5a47d-fbbc-4c79-89e1-50918fc04158\")>,\n",
       "  <selenium.webdriver.remote.webelement.WebElement (session=\"ccebd6cb2f6c0100ba2138f93a8a716d\", element=\"009321a1-64dc-4b31-801d-37065fa3d01e\")>,\n",
       "  <selenium.webdriver.remote.webelement.WebElement (session=\"ccebd6cb2f6c0100ba2138f93a8a716d\", element=\"8624d623-9306-4b84-a6d3-62d9f6d5c9e5\")>,\n",
       "  <selenium.webdriver.remote.webelement.WebElement (session=\"ccebd6cb2f6c0100ba2138f93a8a716d\", element=\"adc1df51-97c0-4dfa-9876-892a0a35ae69\")>],\n",
       " 27)"
      ]
     },
     "execution_count": 16,
     "metadata": {},
     "output_type": "execute_result"
    }
   ],
   "source": [
    "element_tag_a_list = element[0].find_elements(By.TAG_NAME, \"a\")\n",
    "element_tag_a_list, len(element_tag_a_list)"
   ]
  },
  {
   "cell_type": "code",
   "execution_count": 17,
   "metadata": {},
   "outputs": [
    {
     "data": {
      "text/plain": [
       "'https://dermnetnz.org/topics/acne-affecting-the-back-images'"
      ]
     },
     "execution_count": 17,
     "metadata": {},
     "output_type": "execute_result"
    }
   ],
   "source": [
    "element_tag_a_list[0].get_attribute(\"href\")"
   ]
  },
  {
   "cell_type": "code",
   "execution_count": 18,
   "metadata": {
    "scrolled": true
   },
   "outputs": [
    {
     "data": {
      "text/plain": [
       "([<selenium.webdriver.remote.webelement.WebElement (session=\"ccebd6cb2f6c0100ba2138f93a8a716d\", element=\"fdbf8e46-59b0-418f-99bb-68652371973d\")>,\n",
       "  <selenium.webdriver.remote.webelement.WebElement (session=\"ccebd6cb2f6c0100ba2138f93a8a716d\", element=\"ddb66a40-96b4-4fa5-a626-01eb724dfddf\")>,\n",
       "  <selenium.webdriver.remote.webelement.WebElement (session=\"ccebd6cb2f6c0100ba2138f93a8a716d\", element=\"1794fe0e-06d1-4629-aa6a-eb337a7cae12\")>,\n",
       "  <selenium.webdriver.remote.webelement.WebElement (session=\"ccebd6cb2f6c0100ba2138f93a8a716d\", element=\"1312de37-c6ed-49e9-8d37-31a8c3bf41cf\")>,\n",
       "  <selenium.webdriver.remote.webelement.WebElement (session=\"ccebd6cb2f6c0100ba2138f93a8a716d\", element=\"c9bd948a-7ea8-443a-97ae-f012c6127074\")>,\n",
       "  <selenium.webdriver.remote.webelement.WebElement (session=\"ccebd6cb2f6c0100ba2138f93a8a716d\", element=\"a70b33e7-ec50-4a8f-b500-74318c7e10be\")>,\n",
       "  <selenium.webdriver.remote.webelement.WebElement (session=\"ccebd6cb2f6c0100ba2138f93a8a716d\", element=\"e990021f-8346-4a38-b496-a910eca66c8b\")>,\n",
       "  <selenium.webdriver.remote.webelement.WebElement (session=\"ccebd6cb2f6c0100ba2138f93a8a716d\", element=\"52a866b6-ddca-45eb-b8f8-afbd85405839\")>,\n",
       "  <selenium.webdriver.remote.webelement.WebElement (session=\"ccebd6cb2f6c0100ba2138f93a8a716d\", element=\"542ef8d7-faf1-41e5-a7ff-ea5a2e36e17c\")>,\n",
       "  <selenium.webdriver.remote.webelement.WebElement (session=\"ccebd6cb2f6c0100ba2138f93a8a716d\", element=\"6ac7bba4-5391-4e03-9d2f-5c865401e4be\")>,\n",
       "  <selenium.webdriver.remote.webelement.WebElement (session=\"ccebd6cb2f6c0100ba2138f93a8a716d\", element=\"e3b030be-1fb6-473d-835e-7ee6dd9717f8\")>,\n",
       "  <selenium.webdriver.remote.webelement.WebElement (session=\"ccebd6cb2f6c0100ba2138f93a8a716d\", element=\"01c264b5-837e-4a5d-b9da-44a075953795\")>,\n",
       "  <selenium.webdriver.remote.webelement.WebElement (session=\"ccebd6cb2f6c0100ba2138f93a8a716d\", element=\"a06b2990-c42b-4363-8670-04b35f0b4023\")>,\n",
       "  <selenium.webdriver.remote.webelement.WebElement (session=\"ccebd6cb2f6c0100ba2138f93a8a716d\", element=\"f8e3162c-65f3-4ac4-b686-dc6a65a926bf\")>,\n",
       "  <selenium.webdriver.remote.webelement.WebElement (session=\"ccebd6cb2f6c0100ba2138f93a8a716d\", element=\"58f00f0d-7b64-4a1b-8476-fee457433b85\")>,\n",
       "  <selenium.webdriver.remote.webelement.WebElement (session=\"ccebd6cb2f6c0100ba2138f93a8a716d\", element=\"adb30307-0c6d-47a6-bad0-4b3ba610e467\")>,\n",
       "  <selenium.webdriver.remote.webelement.WebElement (session=\"ccebd6cb2f6c0100ba2138f93a8a716d\", element=\"dd88d892-ece9-4b69-808e-97d547806675\")>,\n",
       "  <selenium.webdriver.remote.webelement.WebElement (session=\"ccebd6cb2f6c0100ba2138f93a8a716d\", element=\"8bf69cf4-c642-4ca5-81a1-06977077622e\")>,\n",
       "  <selenium.webdriver.remote.webelement.WebElement (session=\"ccebd6cb2f6c0100ba2138f93a8a716d\", element=\"61413b5e-3f7c-44bc-82db-0480db8c2b0f\")>,\n",
       "  <selenium.webdriver.remote.webelement.WebElement (session=\"ccebd6cb2f6c0100ba2138f93a8a716d\", element=\"650e4cc6-e3a7-4201-ac93-3f7cdebaeda3\")>,\n",
       "  <selenium.webdriver.remote.webelement.WebElement (session=\"ccebd6cb2f6c0100ba2138f93a8a716d\", element=\"f0f55c92-3f8b-4fb0-b0d7-4a6ffab14496\")>,\n",
       "  <selenium.webdriver.remote.webelement.WebElement (session=\"ccebd6cb2f6c0100ba2138f93a8a716d\", element=\"e040e387-c5ef-4e4c-b2c4-355aacfb1454\")>,\n",
       "  <selenium.webdriver.remote.webelement.WebElement (session=\"ccebd6cb2f6c0100ba2138f93a8a716d\", element=\"4c877941-3bf5-45a0-82fd-c99e9c92a50b\")>,\n",
       "  <selenium.webdriver.remote.webelement.WebElement (session=\"ccebd6cb2f6c0100ba2138f93a8a716d\", element=\"cfeb15c5-b117-4b44-b978-2a79bd265537\")>,\n",
       "  <selenium.webdriver.remote.webelement.WebElement (session=\"ccebd6cb2f6c0100ba2138f93a8a716d\", element=\"07519b62-c631-4cc0-8350-587f0d32c269\")>,\n",
       "  <selenium.webdriver.remote.webelement.WebElement (session=\"ccebd6cb2f6c0100ba2138f93a8a716d\", element=\"a88b781f-dd9d-4192-af35-a9598b83181f\")>,\n",
       "  <selenium.webdriver.remote.webelement.WebElement (session=\"ccebd6cb2f6c0100ba2138f93a8a716d\", element=\"a9311f19-ed5f-4628-8e09-7ccf39d6b1d5\")>],\n",
       " 27)"
      ]
     },
     "execution_count": 18,
     "metadata": {},
     "output_type": "execute_result"
    }
   ],
   "source": [
    "element_tag_ing_list = element[0].find_elements(By.TAG_NAME, \"img\")\n",
    "element_tag_ing_list, len(element_tag_ing_list)"
   ]
  },
  {
   "cell_type": "code",
   "execution_count": 19,
   "metadata": {},
   "outputs": [
    {
     "data": {
      "text/plain": [
       "'https://dermnetnz.org/assets/manualthumbnails/acne/acne-back/preview/141__FocusFillWzE1MCwxMTAsInkiLDFd.jpg'"
      ]
     },
     "execution_count": 19,
     "metadata": {},
     "output_type": "execute_result"
    }
   ],
   "source": [
    "element_tag_ing_list[0].get_attribute(\"src\")"
   ]
  },
  {
   "cell_type": "code",
   "execution_count": 20,
   "metadata": {
    "scrolled": true
   },
   "outputs": [
    {
     "name": "stdout",
     "output_type": "stream",
     "text": [
      "https://dermnetnz.org/assets/manualthumbnails/acne/acne-back/preview/141__FocusFillWzE1MCwxMTAsInkiLDFd.jpg\n"
     ]
    },
    {
     "ename": "StaleElementReferenceException",
     "evalue": "Message: stale element reference: element is not attached to the page document\n  (Session info: chrome=103.0.5060.114)\n",
     "output_type": "error",
     "traceback": [
      "\u001b[1;31m---------------------------------------------------------------------------\u001b[0m",
      "\u001b[1;31mStaleElementReferenceException\u001b[0m            Traceback (most recent call last)",
      "\u001b[1;32m<ipython-input-20-e1098b0cc9ce>\u001b[0m in \u001b[0;36m<module>\u001b[1;34m\u001b[0m\n\u001b[0;32m     27\u001b[0m \u001b[1;33m\u001b[0m\u001b[0m\n\u001b[0;32m     28\u001b[0m             \u001b[0mDISEASE_NAME\u001b[0m \u001b[1;33m=\u001b[0m \u001b[0melement_text_list\u001b[0m\u001b[1;33m[\u001b[0m\u001b[0mdata\u001b[0m\u001b[1;33m]\u001b[0m\u001b[1;33m\u001b[0m\u001b[1;33m\u001b[0m\u001b[0m\n\u001b[1;32m---> 29\u001b[1;33m             \u001b[0mDISEASE_URL\u001b[0m \u001b[1;33m=\u001b[0m \u001b[0melement_tag_a_list\u001b[0m\u001b[1;33m[\u001b[0m\u001b[0mdata\u001b[0m\u001b[1;33m]\u001b[0m\u001b[1;33m.\u001b[0m\u001b[0mget_attribute\u001b[0m\u001b[1;33m(\u001b[0m\u001b[1;34m\"href\"\u001b[0m\u001b[1;33m)\u001b[0m\u001b[1;33m\u001b[0m\u001b[1;33m\u001b[0m\u001b[0m\n\u001b[0m\u001b[0;32m     30\u001b[0m             \u001b[0mIMAGE_URL\u001b[0m \u001b[1;33m=\u001b[0m \u001b[0melement_tag_img_list\u001b[0m\u001b[1;33m[\u001b[0m\u001b[0mdata\u001b[0m\u001b[1;33m]\u001b[0m\u001b[1;33m.\u001b[0m\u001b[0mget_attribute\u001b[0m\u001b[1;33m(\u001b[0m\u001b[1;34m\"src\"\u001b[0m\u001b[1;33m)\u001b[0m\u001b[1;33m\u001b[0m\u001b[1;33m\u001b[0m\u001b[0m\n\u001b[0;32m     31\u001b[0m \u001b[1;33m\u001b[0m\u001b[0m\n",
      "\u001b[1;32mc:\\users\\munge\\appdata\\local\\programs\\python\\python36\\lib\\site-packages\\selenium\\webdriver\\remote\\webelement.py\u001b[0m in \u001b[0;36mget_attribute\u001b[1;34m(self, name)\u001b[0m\n\u001b[0;32m    139\u001b[0m             attributeValue = self.parent.execute_script(\n\u001b[0;32m    140\u001b[0m                 \u001b[1;34m\"return (%s).apply(null, arguments);\"\u001b[0m \u001b[1;33m%\u001b[0m \u001b[0mgetAttribute_js\u001b[0m\u001b[1;33m,\u001b[0m\u001b[1;33m\u001b[0m\u001b[1;33m\u001b[0m\u001b[0m\n\u001b[1;32m--> 141\u001b[1;33m                 self, name)\n\u001b[0m\u001b[0;32m    142\u001b[0m         \u001b[1;32melse\u001b[0m\u001b[1;33m:\u001b[0m\u001b[1;33m\u001b[0m\u001b[1;33m\u001b[0m\u001b[0m\n\u001b[0;32m    143\u001b[0m             \u001b[0mresp\u001b[0m \u001b[1;33m=\u001b[0m \u001b[0mself\u001b[0m\u001b[1;33m.\u001b[0m\u001b[0m_execute\u001b[0m\u001b[1;33m(\u001b[0m\u001b[0mCommand\u001b[0m\u001b[1;33m.\u001b[0m\u001b[0mGET_ELEMENT_ATTRIBUTE\u001b[0m\u001b[1;33m,\u001b[0m \u001b[1;33m{\u001b[0m\u001b[1;34m'name'\u001b[0m\u001b[1;33m:\u001b[0m \u001b[0mname\u001b[0m\u001b[1;33m}\u001b[0m\u001b[1;33m)\u001b[0m\u001b[1;33m\u001b[0m\u001b[1;33m\u001b[0m\u001b[0m\n",
      "\u001b[1;32mc:\\users\\munge\\appdata\\local\\programs\\python\\python36\\lib\\site-packages\\selenium\\webdriver\\remote\\webdriver.py\u001b[0m in \u001b[0;36mexecute_script\u001b[1;34m(self, script, *args)\u001b[0m\n\u001b[0;32m    634\u001b[0m         return self.execute(command, {\n\u001b[0;32m    635\u001b[0m             \u001b[1;34m'script'\u001b[0m\u001b[1;33m:\u001b[0m \u001b[0mscript\u001b[0m\u001b[1;33m,\u001b[0m\u001b[1;33m\u001b[0m\u001b[1;33m\u001b[0m\u001b[0m\n\u001b[1;32m--> 636\u001b[1;33m             'args': converted_args})['value']\n\u001b[0m\u001b[0;32m    637\u001b[0m \u001b[1;33m\u001b[0m\u001b[0m\n\u001b[0;32m    638\u001b[0m     \u001b[1;32mdef\u001b[0m \u001b[0mexecute_async_script\u001b[0m\u001b[1;33m(\u001b[0m\u001b[0mself\u001b[0m\u001b[1;33m,\u001b[0m \u001b[0mscript\u001b[0m\u001b[1;33m,\u001b[0m \u001b[1;33m*\u001b[0m\u001b[0margs\u001b[0m\u001b[1;33m)\u001b[0m\u001b[1;33m:\u001b[0m\u001b[1;33m\u001b[0m\u001b[1;33m\u001b[0m\u001b[0m\n",
      "\u001b[1;32mc:\\users\\munge\\appdata\\local\\programs\\python\\python36\\lib\\site-packages\\selenium\\webdriver\\remote\\webdriver.py\u001b[0m in \u001b[0;36mexecute\u001b[1;34m(self, driver_command, params)\u001b[0m\n\u001b[0;32m    319\u001b[0m         \u001b[0mresponse\u001b[0m \u001b[1;33m=\u001b[0m \u001b[0mself\u001b[0m\u001b[1;33m.\u001b[0m\u001b[0mcommand_executor\u001b[0m\u001b[1;33m.\u001b[0m\u001b[0mexecute\u001b[0m\u001b[1;33m(\u001b[0m\u001b[0mdriver_command\u001b[0m\u001b[1;33m,\u001b[0m \u001b[0mparams\u001b[0m\u001b[1;33m)\u001b[0m\u001b[1;33m\u001b[0m\u001b[1;33m\u001b[0m\u001b[0m\n\u001b[0;32m    320\u001b[0m         \u001b[1;32mif\u001b[0m \u001b[0mresponse\u001b[0m\u001b[1;33m:\u001b[0m\u001b[1;33m\u001b[0m\u001b[1;33m\u001b[0m\u001b[0m\n\u001b[1;32m--> 321\u001b[1;33m             \u001b[0mself\u001b[0m\u001b[1;33m.\u001b[0m\u001b[0merror_handler\u001b[0m\u001b[1;33m.\u001b[0m\u001b[0mcheck_response\u001b[0m\u001b[1;33m(\u001b[0m\u001b[0mresponse\u001b[0m\u001b[1;33m)\u001b[0m\u001b[1;33m\u001b[0m\u001b[1;33m\u001b[0m\u001b[0m\n\u001b[0m\u001b[0;32m    322\u001b[0m             response['value'] = self._unwrap_value(\n\u001b[0;32m    323\u001b[0m                 response.get('value', None))\n",
      "\u001b[1;32mc:\\users\\munge\\appdata\\local\\programs\\python\\python36\\lib\\site-packages\\selenium\\webdriver\\remote\\errorhandler.py\u001b[0m in \u001b[0;36mcheck_response\u001b[1;34m(self, response)\u001b[0m\n\u001b[0;32m    240\u001b[0m                 \u001b[0malert_text\u001b[0m \u001b[1;33m=\u001b[0m \u001b[0mvalue\u001b[0m\u001b[1;33m[\u001b[0m\u001b[1;34m'alert'\u001b[0m\u001b[1;33m]\u001b[0m\u001b[1;33m.\u001b[0m\u001b[0mget\u001b[0m\u001b[1;33m(\u001b[0m\u001b[1;34m'text'\u001b[0m\u001b[1;33m)\u001b[0m\u001b[1;33m\u001b[0m\u001b[1;33m\u001b[0m\u001b[0m\n\u001b[0;32m    241\u001b[0m             \u001b[1;32mraise\u001b[0m \u001b[0mexception_class\u001b[0m\u001b[1;33m(\u001b[0m\u001b[0mmessage\u001b[0m\u001b[1;33m,\u001b[0m \u001b[0mscreen\u001b[0m\u001b[1;33m,\u001b[0m \u001b[0mstacktrace\u001b[0m\u001b[1;33m,\u001b[0m \u001b[0malert_text\u001b[0m\u001b[1;33m)\u001b[0m\u001b[1;33m\u001b[0m\u001b[1;33m\u001b[0m\u001b[0m\n\u001b[1;32m--> 242\u001b[1;33m         \u001b[1;32mraise\u001b[0m \u001b[0mexception_class\u001b[0m\u001b[1;33m(\u001b[0m\u001b[0mmessage\u001b[0m\u001b[1;33m,\u001b[0m \u001b[0mscreen\u001b[0m\u001b[1;33m,\u001b[0m \u001b[0mstacktrace\u001b[0m\u001b[1;33m)\u001b[0m\u001b[1;33m\u001b[0m\u001b[1;33m\u001b[0m\u001b[0m\n\u001b[0m\u001b[0;32m    243\u001b[0m \u001b[1;33m\u001b[0m\u001b[0m\n\u001b[0;32m    244\u001b[0m     \u001b[1;32mdef\u001b[0m \u001b[0m_value_or_default\u001b[0m\u001b[1;33m(\u001b[0m\u001b[0mself\u001b[0m\u001b[1;33m,\u001b[0m \u001b[0mobj\u001b[0m\u001b[1;33m,\u001b[0m \u001b[0mkey\u001b[0m\u001b[1;33m,\u001b[0m \u001b[0mdefault\u001b[0m\u001b[1;33m)\u001b[0m\u001b[1;33m:\u001b[0m\u001b[1;33m\u001b[0m\u001b[1;33m\u001b[0m\u001b[0m\n",
      "\u001b[1;31mStaleElementReferenceException\u001b[0m: Message: stale element reference: element is not attached to the page document\n  (Session info: chrome=103.0.5060.114)\n"
     ]
    }
   ],
   "source": [
    "from PIL import Image \n",
    "\n",
    "df = pd.DataFrame()\n",
    "\n",
    "os.makedirs(IMAGES_DIR, exist_ok = True) \n",
    "\n",
    "for ele in range(len(element)):\n",
    "    \n",
    "    element_text_list = element[ele].text.split('\\n')\n",
    "    element_tag_a_list = element[ele].find_elements(By.TAG_NAME, \"a\")\n",
    "    element_tag_img_list = element[ele].find_elements(By.TAG_NAME, \"img\")\n",
    "    \n",
    "#     print(len(element_text_list), len(element_tag_a_list), len(element_tag_img_list))\n",
    "    \n",
    "    for data in range(len(element_text_list)):\n",
    "        \n",
    "        if len(element_tag_a_list) != 0:\n",
    "#             print(data, element_text_list[data], end = ' | ')\n",
    "#             print(element_tag_a_list[data].get_attribute(\"href\"), end = ' | ')\n",
    "#             print(element_tag_img_list[data].get_attribute(\"src\"), '\\n')\n",
    "            \n",
    "#             dictionary = {\n",
    "#                 \"0_element_text\" : element_text_list[data],\n",
    "#                 \"1_element_tag_a_link\" : element_tag_a_list[data].get_attribute(\"href\"),\n",
    "#                 \"2_element_tag_img_link\" : element_tag_img_list[data].get_attribute(\"src\")\n",
    "#             }\n",
    "            \n",
    "            DISEASE_NAME = element_text_list[data]\n",
    "            DISEASE_URL = element_tag_a_list[data].get_attribute(\"href\")\n",
    "            IMAGE_URL = element_tag_img_list[data].get_attribute(\"src\")\n",
    "        \n",
    "            dictionary = {\n",
    "                \"0_Name_of_Disease\" : DISEASE_NAME,\n",
    "                \"1_Disease_URL\" : DISEASE_URL,\n",
    "                \"2_Image_of_Disease_URL\" : IMAGE_URL\n",
    "            }\n",
    "            df = df.append(dictionary, ignore_index=True)\n",
    "            \n",
    "#             import urllib.request\n",
    "#             urllib.request.urlretrieve(IMAGE_URL, DISEASE_NAME+\".jpg\")\n",
    "            \n",
    "            print(IMAGE_URL)\n",
    "        \n",
    "            driver.get(IMAGE_URL)\n",
    "\n",
    "            driver.save_screenshot(DISEASE_NAME+\".jpg\")\n",
    "\n",
    "#             driver.close()\n",
    "        \n",
    "        \n",
    "#             import urllib\n",
    "#             urllib.request.urlretrieve(IMAGE_URL, \"captcha.png\")\n",
    "            \n",
    "#             import urllib\n",
    "#             resource = urllib.urlopen(IMAGE_URL)\n",
    "#             output = open(DISEASE_NAME+\".jpg\",\"wb\")\n",
    "#             output.write(resource.read())\n",
    "#             output.close()\n",
    "            \n",
    "#             IMAGE_FILE = urlreq.urlopen(IMAGE_URL)\n",
    "#             print(IMAGE_FILE)\n",
    "#             im1 = Image.open(IMAGE_FILE)\n",
    "#             im1.save(DISEASE_NAME+\".jpg\")\n",
    "            \n",
    "        else:\n",
    "            pass\n",
    "\n",
    "print('Done')"
   ]
  },
  {
   "cell_type": "code",
   "execution_count": null,
   "metadata": {},
   "outputs": [],
   "source": [
    "df"
   ]
  },
  {
   "cell_type": "code",
   "execution_count": null,
   "metadata": {},
   "outputs": [],
   "source": []
  },
  {
   "cell_type": "code",
   "execution_count": null,
   "metadata": {},
   "outputs": [],
   "source": []
  },
  {
   "cell_type": "code",
   "execution_count": null,
   "metadata": {},
   "outputs": [],
   "source": []
  },
  {
   "cell_type": "markdown",
   "metadata": {},
   "source": [
    "# Problem Statement 2:\n",
    "\n",
    "### Complete the python function to get the output of below cases :\n",
    "\n",
    "i. case 1: n = 1, v = 1\n",
    "\n",
    "ii. case 2: n= 2, v = 23 (Note: 23 is derived as 1 + 22)\n",
    "\n",
    "iii. case 3: n= 3, v = 356 (Note: 356 is derived as 1+22+333)\n",
    "\n",
    "iv. case 4: n= 4, v = 4800 (Note: 356 is derived as 1+22+333+4444)\n",
    "\n",
    "def mystery(n):\n",
    "\n",
    "...\n",
    "\n",
    "...\n",
    "\n",
    "...\n",
    "\n",
    "return v"
   ]
  },
  {
   "cell_type": "code",
   "execution_count": null,
   "metadata": {},
   "outputs": [],
   "source": [
    "def mystery(n):\n",
    "    v = 0\n",
    "    for i in range(1, n+1):\n",
    "        v1 = ''\n",
    "        for j in range(i):\n",
    "            v1 += str(i)\n",
    "        v += int(v1)\n",
    "    \n",
    "    return v\n",
    "\n",
    "print(mystery(1))\n",
    "print(mystery(2))\n",
    "print(mystery(3))\n",
    "print(mystery(4))\n",
    "print(mystery(5))"
   ]
  },
  {
   "cell_type": "code",
   "execution_count": null,
   "metadata": {},
   "outputs": [],
   "source": [
    "'''\n",
    "git add .\n",
    "\n",
    "git commit -m 'add 2nd Q '\n",
    "\n",
    "git push origin main\n",
    "\n",
    "https://selenium-python.readthedocs.io/locating-elements.html\n",
    "\n",
    "https://stackoverflow.com/questions/34759787/fetch-all-href-link-using-selenium-in-python\n",
    "'''"
   ]
  },
  {
   "cell_type": "code",
   "execution_count": null,
   "metadata": {},
   "outputs": [],
   "source": []
  },
  {
   "cell_type": "code",
   "execution_count": null,
   "metadata": {},
   "outputs": [],
   "source": []
  }
 ],
 "metadata": {
  "kernelspec": {
   "display_name": "Python 3.6.7 64-bit",
   "language": "python",
   "name": "python3"
  },
  "language_info": {
   "codemirror_mode": {
    "name": "ipython",
    "version": 3
   },
   "file_extension": ".py",
   "mimetype": "text/x-python",
   "name": "python",
   "nbconvert_exporter": "python",
   "pygments_lexer": "ipython3",
   "version": "3.6.7"
  },
  "vscode": {
   "interpreter": {
    "hash": "d9c9f810be48f5a6d36a39dedf5b599964b855af479ef5af15b81f905ca17cb6"
   }
  }
 },
 "nbformat": 4,
 "nbformat_minor": 2
}
